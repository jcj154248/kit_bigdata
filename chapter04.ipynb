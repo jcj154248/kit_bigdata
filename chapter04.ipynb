{
 "cells": [
  {
   "cell_type": "code",
   "execution_count": 36,
   "metadata": {},
   "outputs": [
    {
     "data": {
      "text/plain": [
       "0    1\n",
       "1    2\n",
       "2    3\n",
       "3    4\n",
       "Name: english, dtype: int64"
      ]
     },
     "execution_count": 36,
     "metadata": {},
     "output_type": "execute_result"
    }
   ],
   "source": [
    "import pandas as pd\n",
    "\n",
    "df = pd.DataFrame({\n",
    "        'name' : ['ㅁ', 'ㄴ', 'ㅇ', 'ㄹ'],\n",
    "        'english' : [1,2,3,4],\n",
    "        'math' : [5,6,7,8]\n",
    "})\n",
    "\n",
    "df\n",
    "df['english']"
   ]
  },
  {
   "cell_type": "code",
   "execution_count": 37,
   "metadata": {},
   "outputs": [
    {
     "data": {
      "text/plain": [
       "6.5"
      ]
     },
     "execution_count": 37,
     "metadata": {},
     "output_type": "execute_result"
    }
   ],
   "source": [
    "sum(df['english'])\n",
    "sum(df['math'])\n",
    "\n",
    "sum(df['english']) / 4\n",
    "sum(df['math']) / 4"
   ]
  },
  {
   "cell_type": "code",
   "execution_count": 39,
   "metadata": {},
   "outputs": [
    {
     "data": {
      "text/plain": [
       "25.0"
      ]
     },
     "execution_count": 39,
     "metadata": {},
     "output_type": "execute_result"
    }
   ],
   "source": [
    "fruit = pd.DataFrame({\n",
    "    '제품' : ['사과', '딸기', '수박'],\n",
    "    '가격' : [1800, 1500, 3000],\n",
    "    '판매량' : [24, 38, 13]\n",
    "})\n",
    "\n",
    "fruit\n",
    "\n",
    "sum(fruit['가격']) / 3\n",
    "sum(fruit['판매량']) / 3"
   ]
  },
  {
   "cell_type": "code",
   "execution_count": 49,
   "metadata": {},
   "outputs": [
    {
     "data": {
      "text/plain": [
       "59.45"
      ]
     },
     "execution_count": 49,
     "metadata": {},
     "output_type": "execute_result"
    }
   ],
   "source": [
    "df_exam = pd.read_excel('./excel_exam.xlsx')  # ./, ../, / = 현재, 상위, 하위 폴더\n",
    "df_exam\n",
    "\n",
    "sum(df_exam['english']) / 20\n",
    "sum(df_exam['math']) / 20    # 상수\n",
    "sum(df_exam['science']) / 20\n",
    "\n",
    "# df_exam = pd.read_excel('c:/Users/User/kit_bigdata/excel_exam.xlsx') # 디렉터리에 파일이 없을 경우 절대 경로 지정\n",
    "\n",
    "len(df_exam) # len() : 변수값(행)의 개수 = 20개\n",
    "\n",
    "sum(df_exam['english']) / len(df_exam)\n",
    "sum(df_exam['math']) / len(df_exam)    # 변수\n",
    "sum(df_exam['science']) / len(df_exam)"
   ]
  }
 ],
 "metadata": {
  "language_info": {
   "name": "python"
  },
  "orig_nbformat": 4
 },
 "nbformat": 4,
 "nbformat_minor": 2
}

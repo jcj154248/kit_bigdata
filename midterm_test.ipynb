{
 "cells": [
  {
   "cell_type": "code",
   "execution_count": 17,
   "metadata": {},
   "outputs": [],
   "source": [
    "import pandas as pd\n",
    "import numpy as np"
   ]
  },
  {
   "cell_type": "code",
   "execution_count": null,
   "metadata": {},
   "outputs": [],
   "source": [
    "# 1"
   ]
  },
  {
   "cell_type": "code",
   "execution_count": null,
   "metadata": {},
   "outputs": [],
   "source": [
    "# 1-1\n",
    "# 거대한 규모 (volume) : 방대한 양의 데이터 (테라, 페타바이트 이상)\n",
    "# 빠른 속도 (velocity) : 실시간 생성, 빠른 속도로 데이터를 처리/분석\n",
    "# 높은 다양성 (variety) : 정형(DBMS 등) 및 비정형(영상, 음성, 텍스트 SNS 등)"
   ]
  },
  {
   "cell_type": "code",
   "execution_count": null,
   "metadata": {},
   "outputs": [],
   "source": [
    "# 1-2\n",
    "# 정형 데이터 : 일정한 형식이나 규칙에 맞게 저장된 데이터\n",
    "# 비정형 데이터 : 정해진 규칙이 없어서 값의 의미를 쉽게 파악하기 힘든 데이터들"
   ]
  },
  {
   "cell_type": "code",
   "execution_count": 18,
   "metadata": {},
   "outputs": [],
   "source": [
    "# 1-3 \n",
    "# 데이터 소스 -> 수집 -> 저장 -> 처리 -> 분석 -> 표현"
   ]
  },
  {
   "cell_type": "code",
   "execution_count": null,
   "metadata": {},
   "outputs": [],
   "source": [
    "# 1-4 \n",
    "# 당근마켓 - 게시한 사진의 상품 카테고리 자동 분류, 맞춤형 콘텐츠 추천\n",
    "# 넷플릭스 - 사용자의 영화 관람 목록에 기초해 새로운 영화를 추천해주는 시스템 개발"
   ]
  },
  {
   "cell_type": "code",
   "execution_count": 19,
   "metadata": {},
   "outputs": [],
   "source": [
    "# 2"
   ]
  },
  {
   "cell_type": "code",
   "execution_count": 66,
   "metadata": {},
   "outputs": [
    {
     "data": {
      "text/html": [
       "<div>\n",
       "<style scoped>\n",
       "    .dataframe tbody tr th:only-of-type {\n",
       "        vertical-align: middle;\n",
       "    }\n",
       "\n",
       "    .dataframe tbody tr th {\n",
       "        vertical-align: top;\n",
       "    }\n",
       "\n",
       "    .dataframe thead th {\n",
       "        text-align: right;\n",
       "    }\n",
       "</style>\n",
       "<table border=\"1\" class=\"dataframe\">\n",
       "  <thead>\n",
       "    <tr style=\"text-align: right;\">\n",
       "      <th></th>\n",
       "      <th>index</th>\n",
       "      <th>id</th>\n",
       "      <th>grade</th>\n",
       "      <th>admin</th>\n",
       "    </tr>\n",
       "  </thead>\n",
       "  <tbody>\n",
       "    <tr>\n",
       "      <th>0</th>\n",
       "      <td>0</td>\n",
       "      <td>applecarrot</td>\n",
       "      <td>1st</td>\n",
       "      <td>True</td>\n",
       "    </tr>\n",
       "    <tr>\n",
       "      <th>1</th>\n",
       "      <td>1</td>\n",
       "      <td>sweetsoju</td>\n",
       "      <td>1st</td>\n",
       "      <td>False</td>\n",
       "    </tr>\n",
       "    <tr>\n",
       "      <th>2</th>\n",
       "      <td>2</td>\n",
       "      <td>chimaek</td>\n",
       "      <td>3rd</td>\n",
       "      <td>False</td>\n",
       "    </tr>\n",
       "    <tr>\n",
       "      <th>3</th>\n",
       "      <td>3</td>\n",
       "      <td>galbiya</td>\n",
       "      <td>3rd</td>\n",
       "      <td>True</td>\n",
       "    </tr>\n",
       "    <tr>\n",
       "      <th>4</th>\n",
       "      <td>4</td>\n",
       "      <td>ninano</td>\n",
       "      <td>2nd</td>\n",
       "      <td>False</td>\n",
       "    </tr>\n",
       "  </tbody>\n",
       "</table>\n",
       "</div>"
      ],
      "text/plain": [
       "   index           id grade  admin\n",
       "0      0  applecarrot   1st   True\n",
       "1      1    sweetsoju   1st  False\n",
       "2      2      chimaek   3rd  False\n",
       "3      3      galbiya   3rd   True\n",
       "4      4       ninano   2nd  False"
      ]
     },
     "execution_count": 66,
     "metadata": {},
     "output_type": "execute_result"
    }
   ],
   "source": [
    "# 2-1\n",
    "test = pd.DataFrame({\n",
    "        'index' : [0,1,2,3,4],\n",
    "        'id' : ['applecarrot', 'sweetsoju', 'chimaek', 'galbiya', 'ninano'],\n",
    "        'grade' : ['1st','1st','3rd','3rd','2nd'],\n",
    "        'admin' : [True,False,False,True,False]\n",
    "})\n",
    "test[['index','id','grade','admin']]"
   ]
  },
  {
   "cell_type": "code",
   "execution_count": 80,
   "metadata": {},
   "outputs": [
    {
     "data": {
      "text/html": [
       "<div>\n",
       "<style scoped>\n",
       "    .dataframe tbody tr th:only-of-type {\n",
       "        vertical-align: middle;\n",
       "    }\n",
       "\n",
       "    .dataframe tbody tr th {\n",
       "        vertical-align: top;\n",
       "    }\n",
       "\n",
       "    .dataframe thead th {\n",
       "        text-align: right;\n",
       "    }\n",
       "</style>\n",
       "<table border=\"1\" class=\"dataframe\">\n",
       "  <thead>\n",
       "    <tr style=\"text-align: right;\">\n",
       "      <th></th>\n",
       "      <th>Rating</th>\n",
       "    </tr>\n",
       "  </thead>\n",
       "  <tbody>\n",
       "    <tr>\n",
       "      <th>k_drama_R</th>\n",
       "      <td>8.636364</td>\n",
       "    </tr>\n",
       "  </tbody>\n",
       "</table>\n",
       "</div>"
      ],
      "text/plain": [
       "             Rating\n",
       "k_drama_R  8.636364"
      ]
     },
     "execution_count": 80,
     "metadata": {},
     "output_type": "execute_result"
    }
   ],
   "source": [
    "# 2-2\n",
    "k_drama = pd.read_excel('kdrama_test.xlsx')\n",
    "k_drama\n",
    "\n",
    "k_drama.query('YearOfRelease >= 2020 & OriginalNetwork == \"Netflix\"')\\\n",
    "    .agg(k_drama_R = ('Rating','mean'))\n",
    "\n",
    "      "
   ]
  },
  {
   "cell_type": "code",
   "execution_count": 72,
   "metadata": {},
   "outputs": [
    {
     "data": {
      "text/html": [
       "<div>\n",
       "<style scoped>\n",
       "    .dataframe tbody tr th:only-of-type {\n",
       "        vertical-align: middle;\n",
       "    }\n",
       "\n",
       "    .dataframe tbody tr th {\n",
       "        vertical-align: top;\n",
       "    }\n",
       "\n",
       "    .dataframe thead th {\n",
       "        text-align: right;\n",
       "    }\n",
       "</style>\n",
       "<table border=\"1\" class=\"dataframe\">\n",
       "  <thead>\n",
       "    <tr style=\"text-align: right;\">\n",
       "      <th></th>\n",
       "      <th>k_drama_Count</th>\n",
       "    </tr>\n",
       "    <tr>\n",
       "      <th>ContentRating</th>\n",
       "      <th></th>\n",
       "    </tr>\n",
       "  </thead>\n",
       "  <tbody>\n",
       "    <tr>\n",
       "      <th>13+ - Teens 13 or older</th>\n",
       "      <td>2</td>\n",
       "    </tr>\n",
       "    <tr>\n",
       "      <th>15+ - Teens 15 or older</th>\n",
       "      <td>30</td>\n",
       "    </tr>\n",
       "  </tbody>\n",
       "</table>\n",
       "</div>"
      ],
      "text/plain": [
       "                         k_drama_Count\n",
       "ContentRating                         \n",
       "13+ - Teens 13 or older              2\n",
       "15+ - Teens 15 or older             30"
      ]
     },
     "execution_count": 72,
     "metadata": {},
     "output_type": "execute_result"
    }
   ],
   "source": [
    "# 2-3\n",
    "k_drama.query(\"NumberOfEpisodes >= 30\")\\\n",
    "       .groupby('ContentRating')\\\n",
    "       .agg(k_drama_Count = ('ContentRating', 'count'))"
   ]
  },
  {
   "cell_type": "code",
   "execution_count": 58,
   "metadata": {},
   "outputs": [
    {
     "data": {
      "text/plain": [
       "Name                   0\n",
       "AiredDate              0\n",
       "YearOfRelease          0\n",
       "OriginalNetwork        0\n",
       "AiredOn                0\n",
       "NumberOfEpisodes       0\n",
       "Duration               0\n",
       "ContentRating          0\n",
       "Rating                 0\n",
       "Synopsis               0\n",
       "Genre                  0\n",
       "Tags                   0\n",
       "Director               0\n",
       "Screenwriter           0\n",
       "Cast                   0\n",
       "ProductionCompanies    0\n",
       "Rank                   0\n",
       "dtype: int64"
      ]
     },
     "execution_count": 58,
     "metadata": {},
     "output_type": "execute_result"
    }
   ],
   "source": [
    "# 2-4\n",
    "pd.isna(k_drama).sum() # 결측치 확인\n",
    "\n",
    "k_drama_nomiss = k_drama.dropna(subset=['ContentRating', 'Director', 'Screenwriter', 'ProductionCompanies']) # 각 열에서 결측치 제거\n",
    "k_drama_nomiss\n",
    "\n",
    "pd.isna(k_drama_nomiss).sum() # 결측치 제거 확인"
   ]
  }
 ],
 "metadata": {
  "kernelspec": {
   "display_name": "Python 3",
   "language": "python",
   "name": "python3"
  },
  "language_info": {
   "codemirror_mode": {
    "name": "ipython",
    "version": 3
   },
   "file_extension": ".py",
   "mimetype": "text/x-python",
   "name": "python",
   "nbconvert_exporter": "python",
   "pygments_lexer": "ipython3",
   "version": "3.11.4"
  }
 },
 "nbformat": 4,
 "nbformat_minor": 2
}
